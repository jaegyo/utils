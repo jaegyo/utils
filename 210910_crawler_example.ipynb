{
 "cells": [
  {
   "cell_type": "code",
   "execution_count": 9,
   "source": [
    "# 참고 : https://beomi.github.io/gb-crawling/posts/2017-01-20-HowToMakeWebCrawler.html\n",
    "import requests\n",
    "from bs4 import BeautifulSoup\n",
    "import time\n",
    "import csv\n",
    "\n",
    "print('---- process start ----')\n",
    "start_time = time.time()\n",
    "\n",
    "file_name = '210910.txt'\n",
    "\n",
    "req = requests.get('https://beomi.github.io/beomi.github.io_old')\n",
    "html = req.text\n",
    "soup = BeautifulSoup(html, 'html.parser')\n",
    "\n",
    "my_titles = soup.select('h3>a')\n",
    "dates = soup.select('span')\n",
    "\n",
    "csv_datas = []\n",
    "\n",
    "for title, date in zip(my_titles, dates[1:]):\n",
    "    tmp = []\n",
    "    tmp.append(title.text)\n",
    "    tmp.append(title.get('href'))\n",
    "    tmp.append(date.text)\n",
    "    \n",
    "    csv_datas.append(tmp)\n",
    "\n",
    "with open(file_name, 'w', newline='') as f:\n",
    "    writer = csv.writer(f)\n",
    "    writer.writerows(csv_datas)\n",
    "\n",
    "end_time = time.time()\n",
    "print('---- process end ----')\n",
    "print('프로그램 수행 시간 (mSec): {}'.format((end_time-start_time)*1000))    "
   ],
   "outputs": [
    {
     "output_type": "stream",
     "name": "stdout",
     "text": [
      "---- process start ----\n",
      "---- process end ----\n",
      "프로그램 수행 시간 (mSec): 554.999589920044\n"
     ]
    }
   ],
   "metadata": {}
  },
  {
   "cell_type": "code",
   "execution_count": 34,
   "source": [
    "import requests\n",
    "from bs4 import BeautifulSoup\n",
    "import time\n",
    "import csv\n",
    "\n",
    "print('---- process start ----')\n",
    "start_time = time.time()\n",
    "\n",
    "req = requests.get('https://www.ayventure.net/bbs/board.do?id=382&menuId=855#1')\n",
    "html = req.text\n",
    "soup = BeautifulSoup(html, 'html.parser')\n",
    "\n",
    "table = soup.find(\"table\")\n",
    "output_rows = []\n",
    "for table_row in table.findAll('tr'):\n",
    "    # columns data를 추출함에 있어 이슈 발생\n",
    "    columns = table_row.findAll('td')\n",
    "    output_row = []\n",
    "    for column in columns:\n",
    "        output_row.append(column.text)\n",
    "    output_rows.append(output_row)\n",
    "    \n",
    "with open('210910.txt', 'w') as csvfile:\n",
    "    writer = csv.writer(csvfile)\n",
    "    writer.writerows(output_rows)\n",
    "\n",
    "end_time = time.time()\n",
    "print('---- process end ----')\n",
    "print('프로그램 수행 시간 (mSec): {}'.format((end_time-start_time)*1000))    "
   ],
   "outputs": [
    {
     "output_type": "stream",
     "name": "stdout",
     "text": [
      "---- process start ----\n",
      "---- process end ----\n",
      "프로그램 수행 시간 (mSec): 1794.6422100067139\n"
     ]
    }
   ],
   "metadata": {}
  }
 ],
 "metadata": {
  "orig_nbformat": 4,
  "language_info": {
   "name": "python",
   "version": "3.8.10",
   "mimetype": "text/x-python",
   "codemirror_mode": {
    "name": "ipython",
    "version": 3
   },
   "pygments_lexer": "ipython3",
   "nbconvert_exporter": "python",
   "file_extension": ".py"
  },
  "kernelspec": {
   "name": "python3",
   "display_name": "Python 3.8.10 64-bit"
  },
  "interpreter": {
   "hash": "916dbcbb3f70747c44a77c7bcd40155683ae19c65e1c03b4aa3499c5328201f1"
  }
 },
 "nbformat": 4,
 "nbformat_minor": 2
}